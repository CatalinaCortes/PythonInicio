{
  "nbformat": 4,
  "nbformat_minor": 0,
  "metadata": {
    "colab": {
      "name": "Ejemplo1.ipynb",
      "provenance": [],
      "authorship_tag": "ABX9TyMBoacw7y6lwVpiCCL6QrCT",
      "include_colab_link": true
    },
    "kernelspec": {
      "name": "python3",
      "display_name": "Python 3"
    },
    "language_info": {
      "name": "python"
    }
  },
  "cells": [
    {
      "cell_type": "markdown",
      "metadata": {
        "id": "view-in-github",
        "colab_type": "text"
      },
      "source": [
        "<a href=\"https://colab.research.google.com/github/CatalinaCortes/PythonInicio/blob/main/Ejemplo1.ipynb\" target=\"_parent\"><img src=\"https://colab.research.google.com/assets/colab-badge.svg\" alt=\"Open In Colab\"/></a>"
      ]
    },
    {
      "cell_type": "code",
      "source": [
        "archivoejm = open(\"Ejemplo1.txt\",\"r\")\n",
        "cuerpo = archivoejm.read()\n",
        "print(cuerpo[:10])\n",
        "\n",
        "\n",
        "archivoejm.close()"
      ],
      "metadata": {
        "colab": {
          "base_uri": "https://localhost:8080/"
        },
        "id": "lOoSaCjTjiHB",
        "outputId": "4796b15d-9539-4cd8-d8ea-cce1ce99e3db"
      },
      "execution_count": 14,
      "outputs": [
        {
          "output_type": "stream",
          "name": "stdout",
          "text": [
            "Esta es la\n"
          ]
        }
      ]
    },
    {
      "cell_type": "code",
      "source": [
        ""
      ],
      "metadata": {
        "id": "0QInBZcwxNWI"
      },
      "execution_count": null,
      "outputs": []
    },
    {
      "cell_type": "code",
      "source": [
        "archivoejm = open(\"Ejemplo1.txt\",\"r\")\n",
        "cuerpo = archivoejm.readlines()\n",
        "#print(cuerpo[:3])\n",
        "for lineas in cuerpo[:3]:\n",
        "  print(lineas.strip())\n",
        "\n",
        "archivoejm.close()"
      ],
      "metadata": {
        "colab": {
          "base_uri": "https://localhost:8080/"
        },
        "id": "WGDrgLLewvs4",
        "outputId": "200fedbf-2b9f-4d1c-a979-05637b19aa40"
      },
      "execution_count": 20,
      "outputs": [
        {
          "output_type": "stream",
          "name": "stdout",
          "text": [
            "Esta es la linea 1\n",
            "Esta es la linea 2\n",
            "Esta es la linea 3\n"
          ]
        }
      ]
    },
    {
      "cell_type": "code",
      "source": [
        ""
      ],
      "metadata": {
        "id": "EmPWWnZozcPv"
      },
      "execution_count": null,
      "outputs": []
    },
    {
      "cell_type": "code",
      "source": [
        "archivoejm = open(\"Ejemplo1.txt\",\"r\")\n",
        "cuerpo = archivoejm.readlines()\n",
        "print(len(cuerpo))\n",
        "\n",
        "archivoejm.close()"
      ],
      "metadata": {
        "colab": {
          "base_uri": "https://localhost:8080/"
        },
        "outputId": "116d33d9-97d2-4437-e9f0-35cfe0fad1c8",
        "id": "oD-gel6Zzcj6"
      },
      "execution_count": 21,
      "outputs": [
        {
          "output_type": "stream",
          "name": "stdout",
          "text": [
            "5\n"
          ]
        }
      ]
    },
    {
      "cell_type": "code",
      "source": [
        ""
      ],
      "metadata": {
        "id": "bcMz6nxRzkSw"
      },
      "execution_count": null,
      "outputs": []
    }
  ]
}