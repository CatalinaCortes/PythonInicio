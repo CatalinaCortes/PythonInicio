{
  "nbformat": 4,
  "nbformat_minor": 0,
  "metadata": {
    "colab": {
      "name": "Ejemplo1.ipynb",
      "provenance": [],
      "collapsed_sections": [],
      "authorship_tag": "ABX9TyNuoJyuFI/L8LKpyFaIkfVH",
      "include_colab_link": true
    },
    "kernelspec": {
      "name": "python3",
      "display_name": "Python 3"
    },
    "language_info": {
      "name": "python"
    }
  },
  "cells": [
    {
      "cell_type": "markdown",
      "metadata": {
        "id": "view-in-github",
        "colab_type": "text"
      },
      "source": [
        "<a href=\"https://colab.research.google.com/github/CatalinaCortes/PythonInicio/blob/main/Ejemplo1.ipynb\" target=\"_parent\"><img src=\"https://colab.research.google.com/assets/colab-badge.svg\" alt=\"Open In Colab\"/></a>"
      ]
    },
    {
      "cell_type": "code",
      "source": [
        "archivoejm = open(\"Ejemplo1.txt\",\"r\")\n",
        "cuerpo = archivoejm.read()\n",
        "print(cuerpo[:10])\n",
        "\n",
        "\n",
        "archivoejm.close()"
      ],
      "metadata": {
        "colab": {
          "base_uri": "https://localhost:8080/"
        },
        "id": "lOoSaCjTjiHB",
        "outputId": "4796b15d-9539-4cd8-d8ea-cce1ce99e3db"
      },
      "execution_count": 14,
      "outputs": [
        {
          "output_type": "stream",
          "name": "stdout",
          "text": [
            "Esta es la\n"
          ]
        }
      ]
    },
    {
      "cell_type": "code",
      "source": [
        ""
      ],
      "metadata": {
        "id": "0QInBZcwxNWI"
      },
      "execution_count": null,
      "outputs": []
    },
    {
      "cell_type": "code",
      "source": [
        "archivoejm = open(\"Ejemplo1.txt\",\"r\")\n",
        "cuerpo = archivoejm.readlines()\n",
        "#print(cuerpo[:3])\n",
        "for lineas in cuerpo[:3]:\n",
        "  print(lineas.strip())\n",
        "\n",
        "archivoejm.close()"
      ],
      "metadata": {
        "colab": {
          "base_uri": "https://localhost:8080/"
        },
        "id": "WGDrgLLewvs4",
        "outputId": "200fedbf-2b9f-4d1c-a979-05637b19aa40"
      },
      "execution_count": 20,
      "outputs": [
        {
          "output_type": "stream",
          "name": "stdout",
          "text": [
            "Esta es la linea 1\n",
            "Esta es la linea 2\n",
            "Esta es la linea 3\n"
          ]
        }
      ]
    },
    {
      "cell_type": "code",
      "source": [
        ""
      ],
      "metadata": {
        "id": "EmPWWnZozcPv"
      },
      "execution_count": null,
      "outputs": []
    },
    {
      "cell_type": "code",
      "source": [
        "archivoejm = open(\"Ejemplo1.txt\",\"r\")\n",
        "cuerpo = archivoejm.readlines()\n",
        "print(len(cuerpo))\n",
        "\n",
        "archivoejm.close()"
      ],
      "metadata": {
        "colab": {
          "base_uri": "https://localhost:8080/"
        },
        "outputId": "116d33d9-97d2-4437-e9f0-35cfe0fad1c8",
        "id": "oD-gel6Zzcj6"
      },
      "execution_count": 21,
      "outputs": [
        {
          "output_type": "stream",
          "name": "stdout",
          "text": [
            "5\n"
          ]
        }
      ]
    },
    {
      "cell_type": "code",
      "source": [
        ""
      ],
      "metadata": {
        "id": "bcMz6nxRzkSw"
      },
      "execution_count": null,
      "outputs": []
    },
    {
      "cell_type": "code",
      "source": [
        "archivoejm = open(\"Ejemplo1.txt\",\"r\")\n",
        "print(archivoejm.name)\n",
        "print(archivoejm.mode)\n",
        "cuerpo = archivoejm.read()\n",
        "print(cuerpo)\n",
        "print(type(cuerpo))\n",
        "\n",
        "archivoejm.close()"
      ],
      "metadata": {
        "colab": {
          "base_uri": "https://localhost:8080/"
        },
        "outputId": "2e9583cf-bcf7-4915-8860-ea3728303a54",
        "id": "vLJ35X1Rz7G0"
      },
      "execution_count": 29,
      "outputs": [
        {
          "output_type": "stream",
          "name": "stdout",
          "text": [
            "Ejemplo1.txt\n",
            "r\n",
            "Esta es la linea 1\n",
            "Esta es la linea 2\n",
            "Esta es la linea 3\n",
            "Esta es la linea 4\n",
            "Esta es la linea 5\n",
            "<class 'str'>\n"
          ]
        }
      ]
    },
    {
      "cell_type": "markdown",
      "source": [
        "######### Otra forma de abrir un archivo"
      ],
      "metadata": {
        "id": "wLghtCSX9fc9"
      }
    },
    {
      "cell_type": "code",
      "source": [
        "with open(\"example1.txt\", \"r\") as file1:\n",
        "    FileContent = file1.read()\n",
        "    print(FileContent)"
      ],
      "metadata": {
        "colab": {
          "base_uri": "https://localhost:8080/"
        },
        "id": "chgT_bmS1RjJ",
        "outputId": "1bff1e5e-d0cd-44c2-f496-d430dff7daaa"
      },
      "execution_count": 32,
      "outputs": [
        {
          "output_type": "stream",
          "name": "stdout",
          "text": [
            "This is line 1 \n",
            "This is line 2\n",
            "This is line 3\n"
          ]
        }
      ]
    },
    {
      "cell_type": "code",
      "source": [
        "file1.closed"
      ],
      "metadata": {
        "colab": {
          "base_uri": "https://localhost:8080/"
        },
        "id": "7TL6pKak6Ajo",
        "outputId": "18a43b02-7ab9-4dd9-e5ab-cf1b9923e375"
      },
      "execution_count": 38,
      "outputs": [
        {
          "output_type": "execute_result",
          "data": {
            "text/plain": [
              "True"
            ]
          },
          "metadata": {},
          "execution_count": 38
        }
      ]
    },
    {
      "cell_type": "code",
      "source": [
        "print(FileContent)"
      ],
      "metadata": {
        "colab": {
          "base_uri": "https://localhost:8080/"
        },
        "id": "ZTCBNXzv6YsA",
        "outputId": "b91bf224-612e-451f-8410-6d6de4040adf"
      },
      "execution_count": 35,
      "outputs": [
        {
          "output_type": "stream",
          "name": "stdout",
          "text": [
            "This is line 1 \n",
            "This is line 2\n",
            "This is line 3\n"
          ]
        }
      ]
    },
    {
      "cell_type": "code",
      "source": [
        "with open(\"example1.txt\", \"r\") as file1:\n",
        "    print(file1.read(4))\n",
        "    print(file1.read(4))\n",
        "    print(file1.read(4))"
      ],
      "metadata": {
        "colab": {
          "base_uri": "https://localhost:8080/"
        },
        "id": "NWHUCBCR6o94",
        "outputId": "8e4b1292-a56f-416a-d56f-4c127038b6ea"
      },
      "execution_count": 36,
      "outputs": [
        {
          "output_type": "stream",
          "name": "stdout",
          "text": [
            "This\n",
            " is \n",
            "line\n"
          ]
        }
      ]
    },
    {
      "cell_type": "code",
      "source": [
        "with open(\"example1.txt\", \"r\") as file1:\n",
        "    print(file1.read(16))\n",
        "    print(file1.read(5))\n",
        "    print(file1.read(9))"
      ],
      "metadata": {
        "colab": {
          "base_uri": "https://localhost:8080/"
        },
        "id": "ekF51JxZ7Q_a",
        "outputId": "44ed5c68-7aed-4a69-e8ea-bd41f68d1c99"
      },
      "execution_count": 39,
      "outputs": [
        {
          "output_type": "stream",
          "name": "stdout",
          "text": [
            "This is line 1 \n",
            "\n",
            "This \n",
            "is line 2\n"
          ]
        }
      ]
    },
    {
      "cell_type": "code",
      "source": [
        "# Lee una línea\n",
        "\n",
        "with open(\"example1.txt\", \"r\") as file1:\n",
        "    print(\"first line: \" + file1.readline())\n",
        "    "
      ],
      "metadata": {
        "colab": {
          "base_uri": "https://localhost:8080/"
        },
        "id": "IQGi_rOD9GjJ",
        "outputId": "2aad07d7-dca3-4b90-d735-f93f25446416"
      },
      "execution_count": 40,
      "outputs": [
        {
          "output_type": "stream",
          "name": "stdout",
          "text": [
            "first line: This is line 1 \n",
            "\n"
          ]
        }
      ]
    },
    {
      "cell_type": "code",
      "source": [
        "# Iterar a través de una línea:\n",
        "\n",
        "with open(\"example1.txt\",\"r\") as file1:\n",
        "        i = 0;\n",
        "        for line in file1:\n",
        "            print(\"Iteration\", str(i), \": \", line)\n",
        "            i = i + 1;"
      ],
      "metadata": {
        "colab": {
          "base_uri": "https://localhost:8080/"
        },
        "id": "tIFRplce9J3r",
        "outputId": "b6ed1a90-8dab-4908-9a06-ff72dd4ca7e4"
      },
      "execution_count": 41,
      "outputs": [
        {
          "output_type": "stream",
          "name": "stdout",
          "text": [
            "Iteration 0 :  This is line 1 \n",
            "\n",
            "Iteration 1 :  This is line 2\n",
            "\n",
            "Iteration 2 :  This is line 3\n"
          ]
        }
      ]
    },
    {
      "cell_type": "code",
      "source": [
        "# Leer todas las líneas y guardarlas como una lista\n",
        "\n",
        "with open(\"example1.txt\", \"r\") as file1:\n",
        "    FileasList = file1.readlines()"
      ],
      "metadata": {
        "id": "dRjc-_IO9Ncc"
      },
      "execution_count": 42,
      "outputs": []
    },
    {
      "cell_type": "code",
      "source": [
        ""
      ],
      "metadata": {
        "id": "eqFc7A929ZX9"
      },
      "execution_count": null,
      "outputs": []
    }
  ]
}