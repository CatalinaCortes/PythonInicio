{
  "nbformat": 4,
  "nbformat_minor": 0,
  "metadata": {
    "colab": {
      "provenance": [],
      "authorship_tag": "ABX9TyOVgZUig5AO0sW+vsUSkPBH",
      "include_colab_link": true
    },
    "kernelspec": {
      "name": "python3",
      "display_name": "Python 3"
    },
    "language_info": {
      "name": "python"
    }
  },
  "cells": [
    {
      "cell_type": "markdown",
      "metadata": {
        "id": "view-in-github",
        "colab_type": "text"
      },
      "source": [
        "<a href=\"https://colab.research.google.com/github/CatalinaCortes/PythonInicio/blob/main/Basic_use_of_matplotlib.ipynb\" target=\"_parent\"><img src=\"https://colab.research.google.com/assets/colab-badge.svg\" alt=\"Open In Colab\"/></a>"
      ]
    },
    {
      "cell_type": "code",
      "execution_count": 6,
      "metadata": {
        "id": "1qjUNcsvVxI-"
      },
      "outputs": [],
      "source": [
        "import numpy as np\n",
        "import random \n",
        "import matplotlib.pyplot as plt"
      ]
    },
    {
      "cell_type": "code",
      "source": [
        "#numeros aleatorios con distribución normal\n",
        "x = np.random.normal(1.60,0.20,100)"
      ],
      "metadata": {
        "id": "vyjqrlUVbSSX"
      },
      "execution_count": 16,
      "outputs": []
    },
    {
      "cell_type": "code",
      "source": [
        "# números aleatorios con distribución gama\n",
        "y = []\n",
        "for i in range(100):\n",
        "  valor = random.gammavariate(2,1)\n",
        "  y.append(valor) \n",
        "\n",
        "y = np.array(y)"
      ],
      "metadata": {
        "id": "XE6XqpVcbAq-"
      },
      "execution_count": 28,
      "outputs": []
    },
    {
      "cell_type": "code",
      "source": [
        "plt.scatter(x,y)\n",
        "#plt.xscale('log')\n",
        "#plt.yscale('log')\n",
        "plt.show()"
      ],
      "metadata": {
        "id": "kOZIHqLibEQO",
        "colab": {
          "base_uri": "https://localhost:8080/",
          "height": 267
        },
        "outputId": "53c50675-d317-444f-be70-f617a4fc7025"
      },
      "execution_count": 29,
      "outputs": [
        {
          "output_type": "display_data",
          "data": {
            "text/plain": [
              "<Figure size 432x288 with 1 Axes>"
            ],
            "image/png": "[encoded data removed]"
          },
          "metadata": {
            "needs_background": "light"
          }
        }
      ]
    }
  ]
}