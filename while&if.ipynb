{
  "nbformat": 4,
  "nbformat_minor": 0,
  "metadata": {
    "colab": {
      "provenance": [],
      "authorship_tag": "ABX9TyMlS5G9z/DCFvVSzVK9qRTr",
      "include_colab_link": true
    },
    "kernelspec": {
      "name": "python3",
      "display_name": "Python 3"
    },
    "language_info": {
      "name": "python"
    }
  },
  "cells": [
    {
      "cell_type": "markdown",
      "metadata": {
        "id": "view-in-github",
        "colab_type": "text"
      },
      "source": [
        "<a href=\"https://colab.research.google.com/github/CatalinaCortes/PythonInicio/blob/main/while%26if.ipynb\" target=\"_parent\"><img src=\"https://colab.research.google.com/assets/colab-badge.svg\" alt=\"Open In Colab\"/></a>"
      ]
    },
    {
      "cell_type": "code",
      "execution_count": null,
      "metadata": {
        "id": "dOI17pUbcKgG"
      },
      "outputs": [],
      "source": [
        "# Initialize offset\n",
        "varx = -6\n",
        "\n",
        "# Code the while loop\n",
        "while varx != 0 :\n",
        "    print(\"correcting...\")\n",
        "    if varx < 0 :\n",
        "      varx = varx + 1\n",
        "    else : \n",
        "      varx = varx - 1\n",
        "    print(varx)"
      ]
    }
  ]
}