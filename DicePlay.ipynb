{
  "nbformat": 4,
  "nbformat_minor": 0,
  "metadata": {
    "colab": {
      "provenance": [],
      "authorship_tag": "ABX9TyM88AiHrkIiqFAUhylcaE8w",
      "include_colab_link": true
    },
    "kernelspec": {
      "name": "python3",
      "display_name": "Python 3"
    },
    "language_info": {
      "name": "python"
    }
  },
  "cells": [
    {
      "cell_type": "markdown",
      "metadata": {
        "id": "view-in-github",
        "colab_type": "text"
      },
      "source": [
        "<a href=\"https://colab.research.google.com/github/CatalinaCortes/PythonInicio/blob/main/DicePlay.ipynb\" target=\"_parent\"><img src=\"https://colab.research.google.com/assets/colab-badge.svg\" alt=\"Open In Colab\"/></a>"
      ]
    },
    {
      "cell_type": "code",
      "execution_count": null,
      "metadata": {
        "id": "8YQ3SXakNhcj"
      },
      "outputs": [],
      "source": [
        "# NumPy is imported, seed is set\n",
        "import numpy as np\n",
        "np.random.seed(123)\n",
        "# Starting step\n",
        "step = 50\n",
        "\n",
        "# Roll the dice\n",
        "dice = np.random.randint(1,7)\n",
        "\n",
        "# Finish the control construct\n",
        "if dice <= 2 :\n",
        "    step = step - 1\n",
        "elif dice >2 and dice <6 :\n",
        "    step = step +1\n",
        "else :\n",
        "    step = step + np.random.randint(1,7)\n",
        "\n",
        "# Print out dice and step\n",
        "print(\"dice \" + \"= \" + str(dice))\n",
        "print(\"step \" + \"= \" + str(step))"
      ]
    },
    {
      "cell_type": "code",
      "source": [
        "# Initialize random_walk\n",
        "random_walk = [0]\n",
        "\n",
        "# Complete the for\n",
        "for x in range(100) :\n",
        "    # Set step: last element in random_walk\n",
        "    step = random_walk[-1]\n",
        "\n",
        "    # Roll the dice\n",
        "    dice = np.random.randint(1,7)\n",
        "\n",
        "    # Determine next step\n",
        "    if dice <= 2:\n",
        "        step = step - 1\n",
        "    elif dice <= 5:\n",
        "        step = step + 1\n",
        "    else:\n",
        "        step = step + np.random.randint(1,7)\n",
        "\n",
        "    # append next_step to random_walk\n",
        "    random_walk.append(step)\n",
        "\n",
        "# Print random_walk\n",
        "print(random_walk)"
      ],
      "metadata": {
        "id": "rniuzXIVS7fh"
      },
      "execution_count": null,
      "outputs": []
    },
    {
      "cell_type": "code",
      "source": [
        "# Initialize random_walk\n",
        "random_walk = [0]\n",
        "\n",
        "for x in range(100) :\n",
        "    step = random_walk[-1]\n",
        "    dice = np.random.randint(1,7)\n",
        "\n",
        "    if dice <= 2:\n",
        "        # Replace below: use max to make sure step can't go below 0\n",
        "        # step = step - 1\n",
        "        step = max(0,step - 1)\n",
        "    elif dice <= 5:\n",
        "        step = step + 1\n",
        "    else:\n",
        "        step = step + np.random.randint(1,7)\n",
        "\n",
        "    random_walk.append(step)\n",
        "\n",
        "print(random_walk)"
      ],
      "metadata": {
        "id": "L08_d06BUPnI"
      },
      "execution_count": null,
      "outputs": []
    },
    {
      "cell_type": "code",
      "source": [
        "# Initialization\n",
        "random_walk = [0]\n",
        "\n",
        "for x in range(100) :\n",
        "    step = random_walk[-1]\n",
        "    dice = np.random.randint(1,7)\n",
        "\n",
        "    if dice <= 2:\n",
        "        step = max(0, step - 1)\n",
        "    elif dice <= 5:\n",
        "        step = step + 1\n",
        "    else:\n",
        "        step = step + np.random.randint(1,7)\n",
        "\n",
        "    random_walk.append(step)\n",
        "\n",
        "# Import matplotlib.pyplot as plt\n",
        "import matplotlib.pyplot as plt\n",
        "\n",
        "# Plot random_walk\n",
        "plt.plot(random_walk)\n",
        "\n",
        "# Show the plot\n",
        "plt.show()"
      ],
      "metadata": {
        "id": "Er3TCPm8VCSZ"
      },
      "execution_count": null,
      "outputs": []
    },
    {
      "cell_type": "code",
      "source": [
        "# NumPy is imported; seed is set\n",
        "\n",
        "# Initialize all_walks (don't change this line)\n",
        "all_walks = []\n",
        "\n",
        "# Simulate random walk five times\n",
        "for i in range(5) :\n",
        "\n",
        "    # Code from before\n",
        "    random_walk = [0]\n",
        "    for x in range(100) :\n",
        "        step = random_walk[-1]\n",
        "        dice = np.random.randint(1,7)\n",
        "\n",
        "        if dice <= 2:\n",
        "            step = max(0, step - 1)\n",
        "        elif dice <= 5:\n",
        "            step = step + 1\n",
        "        else:\n",
        "            step = step + np.random.randint(1,7)\n",
        "        random_walk.append(step)\n",
        "\n",
        "    # Append random_walk to all_walks\n",
        "    all_walks.append(random_walk)\n",
        "\n",
        "# Print all_walks\n",
        "print(all_walks)"
      ],
      "metadata": {
        "id": "A3l7tchzc2R5"
      },
      "execution_count": null,
      "outputs": []
    },
    {
      "cell_type": "code",
      "source": [
        "# numpy and matplotlib imported, seed set.\n",
        "\n",
        "# initialize and populate all_walks\n",
        "all_walks = []\n",
        "for i in range(5) :\n",
        "    random_walk = [0]\n",
        "    for x in range(100) :\n",
        "        step = random_walk[-1]\n",
        "        dice = np.random.randint(1,7)\n",
        "        if dice <= 2:\n",
        "            step = max(0, step - 1)\n",
        "        elif dice <= 5:\n",
        "            step = step + 1\n",
        "        else:\n",
        "            step = step + np.random.randint(1,7)\n",
        "        random_walk.append(step)\n",
        "    all_walks.append(random_walk)\n",
        "\n",
        "# Convert all_walks to NumPy array: np_aw\n",
        "np_aw = np.array(all_walks)\n",
        "\n",
        "# Plot np_aw and show\n",
        "plt.plot(np_aw)\n",
        "plt.show()\n",
        "\n",
        "# Clear the figure\n",
        "plt.clf()\n",
        "\n",
        "# Transpose np_aw: np_aw_t\n",
        "np_aw_t = np.transpose(np_aw)\n",
        "\n",
        "# Plot np_aw_t and show\n",
        "plt.plot(np_aw_t)\n",
        "plt.show()"
      ],
      "metadata": {
        "id": "QFMNrOY3c9ax"
      },
      "execution_count": null,
      "outputs": []
    },
    {
      "cell_type": "code",
      "source": [
        "# numpy and matplotlib imported, seed set\n",
        "\n",
        "# clear the plot so it doesn't get cluttered if you run this many times\n",
        "plt.clf()\n",
        "\n",
        "# Simulate random walk 20 times\n",
        "all_walks = []\n",
        "for i in range(20) :\n",
        "    random_walk = [0]\n",
        "    for x in range(100) :\n",
        "        step = random_walk[-1]\n",
        "        dice = np.random.randint(1,7)\n",
        "        if dice <= 2:\n",
        "            step = max(0, step - 1)\n",
        "        elif dice <= 5:\n",
        "            step = step + 1\n",
        "        else:\n",
        "            step = step + np.random.randint(1,7)\n",
        "\n",
        "        # Implement clumsiness\n",
        "        if np.random.rand()<=0.005 :\n",
        "            step = 0\n",
        "\n",
        "        random_walk.append(step)\n",
        "    all_walks.append(random_walk)\n",
        "\n",
        "# Create and plot np_aw_t\n",
        "np_aw_t = np.transpose(np.array(all_walks))\n",
        "plt.plot(np_aw_t)\n",
        "plt.show()"
      ],
      "metadata": {
        "id": "owF4IS3GhcBp"
      },
      "execution_count": null,
      "outputs": []
    },
    {
      "cell_type": "code",
      "source": [
        "# numpy and matplotlib imported, seed set\n",
        "\n",
        "# Simulate random walk 500 times\n",
        "all_walks = []\n",
        "for i in range(500) :\n",
        "    random_walk = [0]\n",
        "    for x in range(100) :\n",
        "        step = random_walk[-1]\n",
        "        dice = np.random.randint(1,7)\n",
        "        if dice <= 2:\n",
        "            step = max(0, step - 1)\n",
        "        elif dice <= 5:\n",
        "            step = step + 1\n",
        "        else:\n",
        "            step = step + np.random.randint(1,7)\n",
        "        if np.random.rand() <= 0.001 :\n",
        "            step = 0\n",
        "        random_walk.append(step)\n",
        "    all_walks.append(random_walk)\n",
        "\n",
        "# Create and plot np_aw_t\n",
        "np_aw_t = np.transpose(np.array(all_walks))\n",
        "\n",
        "# Select last row from np_aw_t: ends\n",
        "ends = np_aw_t[-1]\n",
        "\n",
        "# Plot histogram of ends, display plot\n",
        "plt.hist(ends,bins = 10)\n",
        "plt.show()\n"
      ],
      "metadata": {
        "id": "CuwNK3-zjwc_"
      },
      "execution_count": null,
      "outputs": []
    }
  ]
}