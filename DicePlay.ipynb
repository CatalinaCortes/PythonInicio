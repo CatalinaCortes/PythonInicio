{
  "nbformat": 4,
  "nbformat_minor": 0,
  "metadata": {
    "colab": {
      "provenance": [],
      "authorship_tag": "ABX9TyNdVcAHBZiWuEZSLm3t47M0",
      "include_colab_link": true
    },
    "kernelspec": {
      "name": "python3",
      "display_name": "Python 3"
    },
    "language_info": {
      "name": "python"
    }
  },
  "cells": [
    {
      "cell_type": "markdown",
      "metadata": {
        "id": "view-in-github",
        "colab_type": "text"
      },
      "source": [
        "<a href=\"https://colab.research.google.com/github/CatalinaCortes/PythonInicio/blob/main/DicePlay.ipynb\" target=\"_parent\"><img src=\"https://colab.research.google.com/assets/colab-badge.svg\" alt=\"Open In Colab\"/></a>"
      ]
    },
    {
      "cell_type": "code",
      "execution_count": null,
      "metadata": {
        "id": "8YQ3SXakNhcj"
      },
      "outputs": [],
      "source": [
        "# NumPy is imported, seed is set\n",
        "import numpy as np\n",
        "np.random.seed(123)\n",
        "# Starting step\n",
        "step = 50\n",
        "\n",
        "# Roll the dice\n",
        "dice = np.random.randint(1,7)\n",
        "\n",
        "# Finish the control construct\n",
        "if dice <= 2 :\n",
        "    step = step - 1\n",
        "elif dice >2 and dice <6 :\n",
        "    step = step +1\n",
        "else :\n",
        "    step = step + np.random.randint(1,7)\n",
        "\n",
        "# Print out dice and step\n",
        "print(\"dice \" + \"= \" + str(dice))\n",
        "print(\"step \" + \"= \" + str(step))"
      ]
    }
  ]
}